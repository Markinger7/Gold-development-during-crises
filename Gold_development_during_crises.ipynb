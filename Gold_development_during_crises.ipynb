{
 "cells": [
  {
   "cell_type": "code",
   "execution_count": 1,
   "metadata": {},
   "outputs": [],
   "source": [
    "import numpy as np\n",
    "import pandas as pd\n",
    "import matplotlib.pyplot as plt\n",
    "import quandl\n",
    "%matplotlib inline"
   ]
  },
  {
   "cell_type": "code",
   "execution_count": 2,
   "metadata": {},
   "outputs": [],
   "source": [
    "quandl.ApiConfig.api_key = \"XnamVpFfvrHtET7MCj5L\" #key einsetzen, um eine API anfrage zu machen "
   ]
  },
  {
   "cell_type": "code",
   "execution_count": 3,
   "metadata": {},
   "outputs": [],
   "source": [
    "gold_data = quandl.get(\"LBMA/GOLD\", start_date=\"2000-01-01\", end_date=\"2020-02-20\")\n",
    "silber_data = quandl.get(\"LBMA/SILVER\", start_date=\"2000-01-01\", end_date=\"2020-02-20\")"
   ]
  },
  {
   "cell_type": "code",
   "execution_count": 15,
   "metadata": {},
   "outputs": [
    {
     "data": {
      "text/html": [
       "<div>\n",
       "<style scoped>\n",
       "    .dataframe tbody tr th:only-of-type {\n",
       "        vertical-align: middle;\n",
       "    }\n",
       "\n",
       "    .dataframe tbody tr th {\n",
       "        vertical-align: top;\n",
       "    }\n",
       "\n",
       "    .dataframe thead th {\n",
       "        text-align: right;\n",
       "    }\n",
       "</style>\n",
       "<table border=\"1\" class=\"dataframe\">\n",
       "  <thead>\n",
       "    <tr style=\"text-align: right;\">\n",
       "      <th></th>\n",
       "      <th>USD (AM)</th>\n",
       "      <th>USD (PM)</th>\n",
       "      <th>GBP (AM)</th>\n",
       "      <th>GBP (PM)</th>\n",
       "      <th>EURO (AM)</th>\n",
       "      <th>EURO (PM)</th>\n",
       "    </tr>\n",
       "    <tr>\n",
       "      <th>Date</th>\n",
       "      <th></th>\n",
       "      <th></th>\n",
       "      <th></th>\n",
       "      <th></th>\n",
       "      <th></th>\n",
       "      <th></th>\n",
       "    </tr>\n",
       "  </thead>\n",
       "  <tbody>\n",
       "    <tr>\n",
       "      <td>2000-01-04</td>\n",
       "      <td>282.05</td>\n",
       "      <td>281.50</td>\n",
       "      <td>172.166</td>\n",
       "      <td>171.929</td>\n",
       "      <td>275.305</td>\n",
       "      <td>272.402</td>\n",
       "    </tr>\n",
       "    <tr>\n",
       "      <td>2000-01-05</td>\n",
       "      <td>282.10</td>\n",
       "      <td>280.45</td>\n",
       "      <td>171.729</td>\n",
       "      <td>170.808</td>\n",
       "      <td>272.035</td>\n",
       "      <td>270.470</td>\n",
       "    </tr>\n",
       "    <tr>\n",
       "      <td>2000-01-06</td>\n",
       "      <td>280.35</td>\n",
       "      <td>279.40</td>\n",
       "      <td>170.446</td>\n",
       "      <td>169.518</td>\n",
       "      <td>270.974</td>\n",
       "      <td>269.152</td>\n",
       "    </tr>\n",
       "    <tr>\n",
       "      <td>2000-01-07</td>\n",
       "      <td>282.00</td>\n",
       "      <td>282.10</td>\n",
       "      <td>171.324</td>\n",
       "      <td>172.065</td>\n",
       "      <td>273.840</td>\n",
       "      <td>274.017</td>\n",
       "    </tr>\n",
       "    <tr>\n",
       "      <td>2000-01-10</td>\n",
       "      <td>281.70</td>\n",
       "      <td>281.60</td>\n",
       "      <td>172.230</td>\n",
       "      <td>171.959</td>\n",
       "      <td>275.205</td>\n",
       "      <td>274.812</td>\n",
       "    </tr>\n",
       "    <tr>\n",
       "      <td>...</td>\n",
       "      <td>...</td>\n",
       "      <td>...</td>\n",
       "      <td>...</td>\n",
       "      <td>...</td>\n",
       "      <td>...</td>\n",
       "      <td>...</td>\n",
       "    </tr>\n",
       "    <tr>\n",
       "      <td>2020-02-14</td>\n",
       "      <td>1576.35</td>\n",
       "      <td>1581.40</td>\n",
       "      <td>1209.690</td>\n",
       "      <td>1214.200</td>\n",
       "      <td>1453.080</td>\n",
       "      <td>1456.790</td>\n",
       "    </tr>\n",
       "    <tr>\n",
       "      <td>2020-02-17</td>\n",
       "      <td>1580.30</td>\n",
       "      <td>1580.80</td>\n",
       "      <td>1212.410</td>\n",
       "      <td>1215.160</td>\n",
       "      <td>1457.040</td>\n",
       "      <td>1458.290</td>\n",
       "    </tr>\n",
       "    <tr>\n",
       "      <td>2020-02-18</td>\n",
       "      <td>1588.20</td>\n",
       "      <td>1589.85</td>\n",
       "      <td>1218.470</td>\n",
       "      <td>1220.370</td>\n",
       "      <td>1467.340</td>\n",
       "      <td>1470.770</td>\n",
       "    </tr>\n",
       "    <tr>\n",
       "      <td>2020-02-19</td>\n",
       "      <td>1609.50</td>\n",
       "      <td>1604.20</td>\n",
       "      <td>1239.800</td>\n",
       "      <td>1237.800</td>\n",
       "      <td>1490.400</td>\n",
       "      <td>1486.290</td>\n",
       "    </tr>\n",
       "    <tr>\n",
       "      <td>2020-02-20</td>\n",
       "      <td>1610.35</td>\n",
       "      <td>1619.00</td>\n",
       "      <td>1250.110</td>\n",
       "      <td>1258.450</td>\n",
       "      <td>1491.990</td>\n",
       "      <td>1496.770</td>\n",
       "    </tr>\n",
       "  </tbody>\n",
       "</table>\n",
       "<p>5090 rows × 6 columns</p>\n",
       "</div>"
      ],
      "text/plain": [
       "            USD (AM)  USD (PM)  GBP (AM)  GBP (PM)  EURO (AM)  EURO (PM)\n",
       "Date                                                                    \n",
       "2000-01-04    282.05    281.50   172.166   171.929    275.305    272.402\n",
       "2000-01-05    282.10    280.45   171.729   170.808    272.035    270.470\n",
       "2000-01-06    280.35    279.40   170.446   169.518    270.974    269.152\n",
       "2000-01-07    282.00    282.10   171.324   172.065    273.840    274.017\n",
       "2000-01-10    281.70    281.60   172.230   171.959    275.205    274.812\n",
       "...              ...       ...       ...       ...        ...        ...\n",
       "2020-02-14   1576.35   1581.40  1209.690  1214.200   1453.080   1456.790\n",
       "2020-02-17   1580.30   1580.80  1212.410  1215.160   1457.040   1458.290\n",
       "2020-02-18   1588.20   1589.85  1218.470  1220.370   1467.340   1470.770\n",
       "2020-02-19   1609.50   1604.20  1239.800  1237.800   1490.400   1486.290\n",
       "2020-02-20   1610.35   1619.00  1250.110  1258.450   1491.990   1496.770\n",
       "\n",
       "[5090 rows x 6 columns]"
      ]
     },
     "execution_count": 15,
     "metadata": {},
     "output_type": "execute_result"
    }
   ],
   "source": [
    "gold_data"
   ]
  },
  {
   "cell_type": "code",
   "execution_count": 16,
   "metadata": {},
   "outputs": [
    {
     "data": {
      "text/html": [
       "<div>\n",
       "<style scoped>\n",
       "    .dataframe tbody tr th:only-of-type {\n",
       "        vertical-align: middle;\n",
       "    }\n",
       "\n",
       "    .dataframe tbody tr th {\n",
       "        vertical-align: top;\n",
       "    }\n",
       "\n",
       "    .dataframe thead th {\n",
       "        text-align: right;\n",
       "    }\n",
       "</style>\n",
       "<table border=\"1\" class=\"dataframe\">\n",
       "  <thead>\n",
       "    <tr style=\"text-align: right;\">\n",
       "      <th></th>\n",
       "      <th>USD</th>\n",
       "      <th>GBP</th>\n",
       "      <th>EURO</th>\n",
       "    </tr>\n",
       "    <tr>\n",
       "      <th>Date</th>\n",
       "      <th></th>\n",
       "      <th></th>\n",
       "      <th></th>\n",
       "    </tr>\n",
       "  </thead>\n",
       "  <tbody>\n",
       "    <tr>\n",
       "      <td>2000-01-04</td>\n",
       "      <td>5.3025</td>\n",
       "      <td>3.23225</td>\n",
       "      <td>5.13808</td>\n",
       "    </tr>\n",
       "    <tr>\n",
       "      <td>2000-01-05</td>\n",
       "      <td>5.2850</td>\n",
       "      <td>3.22354</td>\n",
       "      <td>5.10135</td>\n",
       "    </tr>\n",
       "    <tr>\n",
       "      <td>2000-01-06</td>\n",
       "      <td>5.1400</td>\n",
       "      <td>3.11515</td>\n",
       "      <td>4.94231</td>\n",
       "    </tr>\n",
       "    <tr>\n",
       "      <td>2000-01-07</td>\n",
       "      <td>5.1350</td>\n",
       "      <td>3.12158</td>\n",
       "      <td>4.99028</td>\n",
       "    </tr>\n",
       "    <tr>\n",
       "      <td>2000-01-10</td>\n",
       "      <td>5.1450</td>\n",
       "      <td>3.14390</td>\n",
       "      <td>5.03178</td>\n",
       "    </tr>\n",
       "    <tr>\n",
       "      <td>...</td>\n",
       "      <td>...</td>\n",
       "      <td>...</td>\n",
       "      <td>...</td>\n",
       "    </tr>\n",
       "    <tr>\n",
       "      <td>2020-02-14</td>\n",
       "      <td>17.7050</td>\n",
       "      <td>13.59000</td>\n",
       "      <td>16.34000</td>\n",
       "    </tr>\n",
       "    <tr>\n",
       "      <td>2020-02-17</td>\n",
       "      <td>17.8000</td>\n",
       "      <td>13.68000</td>\n",
       "      <td>16.42000</td>\n",
       "    </tr>\n",
       "    <tr>\n",
       "      <td>2020-02-18</td>\n",
       "      <td>17.8850</td>\n",
       "      <td>13.72000</td>\n",
       "      <td>16.52000</td>\n",
       "    </tr>\n",
       "    <tr>\n",
       "      <td>2020-02-19</td>\n",
       "      <td>18.3450</td>\n",
       "      <td>14.13000</td>\n",
       "      <td>17.00000</td>\n",
       "    </tr>\n",
       "    <tr>\n",
       "      <td>2020-02-20</td>\n",
       "      <td>18.3850</td>\n",
       "      <td>14.28000</td>\n",
       "      <td>17.03000</td>\n",
       "    </tr>\n",
       "  </tbody>\n",
       "</table>\n",
       "<p>5090 rows × 3 columns</p>\n",
       "</div>"
      ],
      "text/plain": [
       "                USD       GBP      EURO\n",
       "Date                                   \n",
       "2000-01-04   5.3025   3.23225   5.13808\n",
       "2000-01-05   5.2850   3.22354   5.10135\n",
       "2000-01-06   5.1400   3.11515   4.94231\n",
       "2000-01-07   5.1350   3.12158   4.99028\n",
       "2000-01-10   5.1450   3.14390   5.03178\n",
       "...             ...       ...       ...\n",
       "2020-02-14  17.7050  13.59000  16.34000\n",
       "2020-02-17  17.8000  13.68000  16.42000\n",
       "2020-02-18  17.8850  13.72000  16.52000\n",
       "2020-02-19  18.3450  14.13000  17.00000\n",
       "2020-02-20  18.3850  14.28000  17.03000\n",
       "\n",
       "[5090 rows x 3 columns]"
      ]
     },
     "execution_count": 16,
     "metadata": {},
     "output_type": "execute_result"
    }
   ],
   "source": [
    "silber_data"
   ]
  },
  {
   "cell_type": "code",
   "execution_count": 17,
   "metadata": {},
   "outputs": [],
   "source": [
    "df_g_s_ratio = gold_data['EURO (PM)'] / silber_data['EURO']"
   ]
  },
  {
   "cell_type": "code",
   "execution_count": 36,
   "metadata": {},
   "outputs": [
    {
     "data": {
      "text/plain": [
       "64.73264490803439"
      ]
     },
     "execution_count": 36,
     "metadata": {},
     "output_type": "execute_result"
    }
   ],
   "source": [
    "df_g_s_ratio.mean()"
   ]
  },
  {
   "cell_type": "code",
   "execution_count": 79,
   "metadata": {},
   "outputs": [
    {
     "data": {
      "text/plain": [
       "Text(0.5, 1.0, 'Gold-Silber-Ratio')"
      ]
     },
     "execution_count": 79,
     "metadata": {},
     "output_type": "execute_result"
    },
    {
     "data": {
      "image/png": "[encoded data removed]",
      "text/plain": [
       "<Figure size 720x432 with 1 Axes>"
      ]
     },
     "metadata": {
      "needs_background": "light"
     },
     "output_type": "display_data"
    }
   ],
   "source": [
    "fig, ax = plt.subplots(figsize=(10,6))\n",
    "\n",
    "ax.plot(df_g_s_ratio)\n",
    "ax.axhline(y=80, color='r', linestyle='--', alpha=0.5, label=\"Silber günstig\")\n",
    "ax.axhline(y=65, color='orange', linestyle=':', alpha=0.5, label=\"Durchschnitt\")\n",
    "ax.axhline(y=40, color='g', linestyle='--', alpha=0.5, label=\"Gold günstig\")\n",
    "ax.text('2008', 88, 'Silber kaufen', color='r')\n",
    "ax.text('2008', 35, 'Gold Kaufen', color='g')\n",
    "plt.legend(loc='center left', bbox_to_anchor=(1, 0.5))\n",
    "ax.set_title('Gold-Silber-Ratio')"
   ]
  },
  {
   "cell_type": "code",
   "execution_count": null,
   "metadata": {},
   "outputs": [],
   "source": []
  }
 ],
 "metadata": {
  "kernelspec": {
   "display_name": "Python 3",
   "language": "python",
   "name": "python3"
  },
  "language_info": {
   "codemirror_mode": {
    "name": "ipython",
    "version": 3
   },
   "file_extension": ".py",
   "mimetype": "text/x-python",
   "name": "python",
   "nbconvert_exporter": "python",
   "pygments_lexer": "ipython3",
   "version": "3.7.4"
  }
 },
 "nbformat": 4,
 "nbformat_minor": 4
}
